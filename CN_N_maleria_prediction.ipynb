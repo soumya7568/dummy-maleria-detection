{
  "nbformat": 4,
  "nbformat_minor": 0,
  "metadata": {
    "colab": {
      "name": "CN N-maleria-prediction.ipynb",
      "provenance": []
    },
    "kernelspec": {
      "name": "python3",
      "display_name": "Python 3"
    },
    "language_info": {
      "name": "python"
    }
  },
  "cells": [
    {
      "cell_type": "code",
      "execution_count": 2,
      "metadata": {
        "id": "ZhiU1UcFe_4B"
      },
      "outputs": [],
      "source": [
        "from zipfile import ZipFile"
      ]
    },
    {
      "cell_type": "code",
      "source": [
        "file_name = \"/content/Dataset.zip\"\n",
        "with ZipFile(file_name, 'r') as zip:\n",
        "  zip.extractall()\n",
        "  print('Done')"
      ],
      "metadata": {
        "colab": {
          "base_uri": "https://localhost:8080/"
        },
        "id": "7yaZs3SihXaU",
        "outputId": "728f5f8a-4c4c-4e3a-eb38-bc423a9b34d5"
      },
      "execution_count": 3,
      "outputs": [
        {
          "output_type": "stream",
          "name": "stdout",
          "text": [
            "Done\n"
          ]
        }
      ]
    },
    {
      "cell_type": "code",
      "source": [
        "from tensorflow.keras.layers import Input, Lambda, Dense, Flatten,Conv2D\n",
        "from tensorflow.keras.models import Model\n",
        "from tensorflow.keras.applications.vgg19 import VGG19\n",
        "from tensorflow.keras.applications.resnet50 import preprocess_input\n",
        "from tensorflow.keras.preprocessing import image\n",
        "from tensorflow.keras.preprocessing.image import ImageDataGenerator,load_img\n",
        "from tensorflow.keras.models import Sequential\n",
        "import numpy as np\n",
        "from glob import glob\n",
        "import matplotlib.pyplot as plt"
      ],
      "metadata": {
        "id": "WIooNcQZhy86"
      },
      "execution_count": 4,
      "outputs": []
    },
    {
      "cell_type": "code",
      "source": [
        "import tensorflow as tf\n",
        "print(tf.__version__)"
      ],
      "metadata": {
        "colab": {
          "base_uri": "https://localhost:8080/"
        },
        "id": "WRkMUXE6iBIE",
        "outputId": "f4652114-a716-4efd-dadc-58d7295b9cfa"
      },
      "execution_count": 5,
      "outputs": [
        {
          "output_type": "stream",
          "name": "stdout",
          "text": [
            "2.8.0\n"
          ]
        }
      ]
    },
    {
      "cell_type": "code",
      "source": [
        "IMAGE_SIZE = [224, 224]\n",
        "train_path = \"Dataset/Train\"\n",
        "valid_path = \"Dataset/Test\""
      ],
      "metadata": {
        "id": "_BAuCviuiGpP"
      },
      "execution_count": 7,
      "outputs": []
    },
    {
      "cell_type": "code",
      "source": [
        "vgg19 = VGG19(input_shape=IMAGE_SIZE+[3],weights='imagenet',include_top=False)"
      ],
      "metadata": {
        "id": "V9YnpWeLi55H"
      },
      "execution_count": 11,
      "outputs": []
    },
    {
      "cell_type": "code",
      "source": [
        "#vgg19.summary()"
      ],
      "metadata": {
        "id": "xsDVarYGlLh7"
      },
      "execution_count": 14,
      "outputs": []
    },
    {
      "cell_type": "code",
      "source": [
        "for layer in vgg19.layers:\n",
        "  layer.trainable = False"
      ],
      "metadata": {
        "id": "_5uH0Go1lab3"
      },
      "execution_count": 19,
      "outputs": []
    },
    {
      "cell_type": "code",
      "source": [
        "folders  = glob('Dataset/Train/*')"
      ],
      "metadata": {
        "id": "XkzSO3ZVmGJ_"
      },
      "execution_count": 20,
      "outputs": []
    },
    {
      "cell_type": "code",
      "source": [
        "len(folders)"
      ],
      "metadata": {
        "colab": {
          "base_uri": "https://localhost:8080/"
        },
        "id": "GlumiCB7mkmT",
        "outputId": "17463820-73b3-49e1-fb98-63283c868f51"
      },
      "execution_count": 21,
      "outputs": [
        {
          "output_type": "execute_result",
          "data": {
            "text/plain": [
              "2"
            ]
          },
          "metadata": {},
          "execution_count": 21
        }
      ]
    },
    {
      "cell_type": "code",
      "source": [
        "x = Flatten()(vgg19.output)"
      ],
      "metadata": {
        "id": "y1buWhgkmmJ1"
      },
      "execution_count": 22,
      "outputs": []
    },
    {
      "cell_type": "code",
      "source": [
        "prediction = Dense(len(folders),activation='softmax')(x)\n",
        "model = Model(inputs=vgg19.input,outputs=prediction)"
      ],
      "metadata": {
        "id": "MYVm_uXenJ2k"
      },
      "execution_count": 23,
      "outputs": []
    },
    {
      "cell_type": "code",
      "source": [
        "model.summary()"
      ],
      "metadata": {
        "colab": {
          "base_uri": "https://localhost:8080/"
        },
        "id": "wLnDkcyenxJw",
        "outputId": "247a9b4d-2ef5-470f-891e-27a1248a5288"
      },
      "execution_count": 25,
      "outputs": [
        {
          "output_type": "stream",
          "name": "stdout",
          "text": [
            "Model: \"model\"\n",
            "_________________________________________________________________\n",
            " Layer (type)                Output Shape              Param #   \n",
            "=================================================================\n",
            " input_2 (InputLayer)        [(None, 224, 224, 3)]     0         \n",
            "                                                                 \n",
            " block1_conv1 (Conv2D)       (None, 224, 224, 64)      1792      \n",
            "                                                                 \n",
            " block1_conv2 (Conv2D)       (None, 224, 224, 64)      36928     \n",
            "                                                                 \n",
            " block1_pool (MaxPooling2D)  (None, 112, 112, 64)      0         \n",
            "                                                                 \n",
            " block2_conv1 (Conv2D)       (None, 112, 112, 128)     73856     \n",
            "                                                                 \n",
            " block2_conv2 (Conv2D)       (None, 112, 112, 128)     147584    \n",
            "                                                                 \n",
            " block2_pool (MaxPooling2D)  (None, 56, 56, 128)       0         \n",
            "                                                                 \n",
            " block3_conv1 (Conv2D)       (None, 56, 56, 256)       295168    \n",
            "                                                                 \n",
            " block3_conv2 (Conv2D)       (None, 56, 56, 256)       590080    \n",
            "                                                                 \n",
            " block3_conv3 (Conv2D)       (None, 56, 56, 256)       590080    \n",
            "                                                                 \n",
            " block3_conv4 (Conv2D)       (None, 56, 56, 256)       590080    \n",
            "                                                                 \n",
            " block3_pool (MaxPooling2D)  (None, 28, 28, 256)       0         \n",
            "                                                                 \n",
            " block4_conv1 (Conv2D)       (None, 28, 28, 512)       1180160   \n",
            "                                                                 \n",
            " block4_conv2 (Conv2D)       (None, 28, 28, 512)       2359808   \n",
            "                                                                 \n",
            " block4_conv3 (Conv2D)       (None, 28, 28, 512)       2359808   \n",
            "                                                                 \n",
            " block4_conv4 (Conv2D)       (None, 28, 28, 512)       2359808   \n",
            "                                                                 \n",
            " block4_pool (MaxPooling2D)  (None, 14, 14, 512)       0         \n",
            "                                                                 \n",
            " block5_conv1 (Conv2D)       (None, 14, 14, 512)       2359808   \n",
            "                                                                 \n",
            " block5_conv2 (Conv2D)       (None, 14, 14, 512)       2359808   \n",
            "                                                                 \n",
            " block5_conv3 (Conv2D)       (None, 14, 14, 512)       2359808   \n",
            "                                                                 \n",
            " block5_conv4 (Conv2D)       (None, 14, 14, 512)       2359808   \n",
            "                                                                 \n",
            " block5_pool (MaxPooling2D)  (None, 7, 7, 512)         0         \n",
            "                                                                 \n",
            " flatten (Flatten)           (None, 25088)             0         \n",
            "                                                                 \n",
            " dense (Dense)               (None, 2)                 50178     \n",
            "                                                                 \n",
            "=================================================================\n",
            "Total params: 20,074,562\n",
            "Trainable params: 50,178\n",
            "Non-trainable params: 20,024,384\n",
            "_________________________________________________________________\n"
          ]
        }
      ]
    },
    {
      "cell_type": "code",
      "source": [
        " model.compile(loss='categorical_crossentropy',optimizer='adam',metrics=['accuracy'])"
      ],
      "metadata": {
        "id": "igBPB2c8n0Eu"
      },
      "execution_count": 27,
      "outputs": []
    },
    {
      "cell_type": "code",
      "source": [
        "from tensorflow.keras.preprocessing.image import ImageDataGenerator\n",
        "train_datagen = ImageDataGenerator(rescale = 1./255,\n",
        "                                   shear_range = 0.2,\n",
        "                                   zoom_range = 0.2,\n",
        "                                   horizontal_flip = True)\n",
        "\n",
        "test_datagen = ImageDataGenerator(rescale = 1./255)"
      ],
      "metadata": {
        "id": "S49hLNnqovVU"
      },
      "execution_count": 28,
      "outputs": []
    },
    {
      "cell_type": "code",
      "source": [
        "training_set = train_datagen.flow_from_directory('Dataset/Train',\n",
        "                                                 target_size=(224,224),\n",
        "                                                 batch_size=32,\n",
        "                                                 class_mode='categorical')"
      ],
      "metadata": {
        "colab": {
          "base_uri": "https://localhost:8080/"
        },
        "id": "ds2fg2UWqOoh",
        "outputId": "24deb7a5-a364-478f-a727-70c8aa5a5ae9"
      },
      "execution_count": 29,
      "outputs": [
        {
          "output_type": "stream",
          "name": "stdout",
          "text": [
            "Found 416 images belonging to 2 classes.\n"
          ]
        }
      ]
    },
    {
      "cell_type": "code",
      "source": [
        "training_set"
      ],
      "metadata": {
        "colab": {
          "base_uri": "https://localhost:8080/"
        },
        "id": "AZl3t0G4rEhv",
        "outputId": "ce75f334-2d8e-4948-ed89-fc5671977fdd"
      },
      "execution_count": 30,
      "outputs": [
        {
          "output_type": "execute_result",
          "data": {
            "text/plain": [
              "<keras.preprocessing.image.DirectoryIterator at 0x7f53981f87d0>"
            ]
          },
          "metadata": {},
          "execution_count": 30
        }
      ]
    },
    {
      "cell_type": "code",
      "source": [
        "test_set = test_datagen.flow_from_directory('Dataset/Test',\n",
        "                                            target_size = (224, 224),\n",
        "                                            batch_size = 32,\n",
        "                                            class_mode = 'categorical')"
      ],
      "metadata": {
        "colab": {
          "base_uri": "https://localhost:8080/"
        },
        "id": "IapCiNUbrJIR",
        "outputId": "eb37da9e-0c81-40c0-d5c2-294763a1af31"
      },
      "execution_count": 31,
      "outputs": [
        {
          "output_type": "stream",
          "name": "stdout",
          "text": [
            "Found 134 images belonging to 2 classes.\n"
          ]
        }
      ]
    },
    {
      "cell_type": "code",
      "source": [
        "r = model.fit_generator(\n",
        "  training_set,\n",
        "  validation_data=test_set,\n",
        "  epochs=4,\n",
        "  steps_per_epoch=len(training_set),\n",
        "  validation_steps=len(test_set)\n",
        ")"
      ],
      "metadata": {
        "colab": {
          "base_uri": "https://localhost:8080/"
        },
        "id": "EYd8KQe6rNEj",
        "outputId": "7453ae56-9ef6-4aac-f0b6-f976eb966913"
      },
      "execution_count": 32,
      "outputs": [
        {
          "output_type": "stream",
          "name": "stderr",
          "text": [
            "/usr/local/lib/python3.7/dist-packages/ipykernel_launcher.py:6: UserWarning: `Model.fit_generator` is deprecated and will be removed in a future version. Please use `Model.fit`, which supports generators.\n",
            "  \n"
          ]
        },
        {
          "output_type": "stream",
          "name": "stdout",
          "text": [
            "Epoch 1/4\n",
            "13/13 [==============================] - 355s 28s/step - loss: 1.5958 - accuracy: 0.5168 - val_loss: 1.3410 - val_accuracy: 0.6791\n",
            "Epoch 2/4\n",
            "13/13 [==============================] - 351s 28s/step - loss: 0.8700 - accuracy: 0.6274 - val_loss: 0.8635 - val_accuracy: 0.5373\n",
            "Epoch 3/4\n",
            "13/13 [==============================] - 352s 28s/step - loss: 0.5600 - accuracy: 0.7212 - val_loss: 0.5356 - val_accuracy: 0.7015\n",
            "Epoch 4/4\n",
            "13/13 [==============================] - 354s 28s/step - loss: 0.4109 - accuracy: 0.8053 - val_loss: 0.5869 - val_accuracy: 0.6791\n"
          ]
        }
      ]
    },
    {
      "cell_type": "code",
      "source": [
        "plt.plot(r.history['loss'], label='train loss')\n",
        "plt.plot(r.history['val_loss'], label='val loss')\n",
        "plt.legend()\n",
        "plt.show()\n",
        "plt.savefig('LossVal_loss')\n",
        "\n",
        "# plot the accuracy\n",
        "plt.plot(r.history['accuracy'], label='train acc')\n",
        "plt.plot(r.history['val_accuracy'], label='val acc')\n",
        "plt.legend()\n",
        "plt.show()\n",
        "plt.savefig('AccVal_acc')"
      ],
      "metadata": {
        "colab": {
          "base_uri": "https://localhost:8080/",
          "height": 530
        },
        "id": "DCZuPljTr8sn",
        "outputId": "fef69b73-627e-4a60-930a-5ded1dff626a"
      },
      "execution_count": 33,
      "outputs": [
        {
          "output_type": "display_data",
          "data": {
            "text/plain": [
              "<Figure size 432x288 with 1 Axes>"
            ],
            "image/png": "[encoded data removed]"
          },
          "metadata": {
            "needs_background": "light"
          }
        },
        {
          "output_type": "display_data",
          "data": {
            "text/plain": [
              "<Figure size 432x288 with 1 Axes>"
            ],
            "image/png": "[encoded data removed]"
          },
          "metadata": {
            "needs_background": "light"
          }
        },
        {
          "output_type": "display_data",
          "data": {
            "text/plain": [
              "<Figure size 432x288 with 0 Axes>"
            ]
          },
          "metadata": {}
        }
      ]
    },
    {
      "cell_type": "code",
      "source": [
        "y_pred = model.predict(test_set)"
      ],
      "metadata": {
        "id": "jdGqF6max2Gj"
      },
      "execution_count": 34,
      "outputs": []
    },
    {
      "cell_type": "code",
      "source": [
        "y_pred"
      ],
      "metadata": {
        "colab": {
          "base_uri": "https://localhost:8080/"
        },
        "id": "uKSCT5W2ybLM",
        "outputId": "2d6cb855-45a5-496a-d5a0-0f12c1f1b47e"
      },
      "execution_count": 35,
      "outputs": [
        {
          "output_type": "execute_result",
          "data": {
            "text/plain": [
              "array([[9.6108806e-01, 3.8911927e-02],\n",
              "       [9.5601618e-01, 4.3983798e-02],\n",
              "       [9.0103948e-01, 9.8960534e-02],\n",
              "       [8.7244958e-01, 1.2755041e-01],\n",
              "       [8.6234307e-01, 1.3765691e-01],\n",
              "       [9.5574594e-01, 4.4254024e-02],\n",
              "       [7.7796078e-01, 2.2203921e-01],\n",
              "       [8.4384048e-01, 1.5615951e-01],\n",
              "       [9.7723502e-01, 2.2764958e-02],\n",
              "       [8.1400055e-01, 1.8599944e-01],\n",
              "       [9.9963665e-01, 3.6332986e-04],\n",
              "       [9.9348301e-01, 6.5170331e-03],\n",
              "       [9.9842668e-01, 1.5733617e-03],\n",
              "       [9.4531167e-01, 5.4688361e-02],\n",
              "       [9.8679745e-01, 1.3202523e-02],\n",
              "       [8.0472565e-01, 1.9527434e-01],\n",
              "       [6.8977028e-01, 3.1022972e-01],\n",
              "       [5.9180194e-01, 4.0819800e-01],\n",
              "       [9.6109456e-01, 3.8905524e-02],\n",
              "       [9.9861753e-01, 1.3824867e-03],\n",
              "       [9.5545149e-01, 4.4548515e-02],\n",
              "       [9.9430496e-01, 5.6950045e-03],\n",
              "       [9.4287723e-01, 5.7122752e-02],\n",
              "       [8.1174135e-01, 1.8825862e-01],\n",
              "       [9.1573960e-01, 8.4260352e-02],\n",
              "       [9.9514943e-01, 4.8506251e-03],\n",
              "       [9.8173094e-01, 1.8269129e-02],\n",
              "       [8.0192959e-01, 1.9807041e-01],\n",
              "       [7.2123927e-01, 2.7876067e-01],\n",
              "       [6.7318428e-01, 3.2681569e-01],\n",
              "       [9.8734796e-01, 1.2651987e-02],\n",
              "       [9.9972492e-01, 2.7500707e-04],\n",
              "       [8.9046890e-01, 1.0953105e-01],\n",
              "       [9.8214531e-01, 1.7854698e-02],\n",
              "       [7.9023778e-01, 2.0976219e-01],\n",
              "       [7.5068873e-01, 2.4931125e-01],\n",
              "       [9.9134582e-01, 8.6542033e-03],\n",
              "       [9.8775649e-01, 1.2243554e-02],\n",
              "       [8.3666170e-01, 1.6333824e-01],\n",
              "       [9.0486693e-01, 9.5133074e-02],\n",
              "       [8.5544157e-01, 1.4455846e-01],\n",
              "       [9.8855674e-01, 1.1443184e-02],\n",
              "       [9.2204148e-01, 7.7958472e-02],\n",
              "       [5.6698436e-01, 4.3301570e-01],\n",
              "       [7.0569777e-01, 2.9430223e-01],\n",
              "       [8.2975638e-01, 1.7024358e-01],\n",
              "       [8.6750782e-01, 1.3249223e-01],\n",
              "       [8.3953470e-01, 1.6046530e-01],\n",
              "       [8.3095622e-01, 1.6904372e-01],\n",
              "       [8.7350243e-01, 1.2649763e-01],\n",
              "       [8.0835944e-01, 1.9164056e-01],\n",
              "       [7.0556647e-01, 2.9443353e-01],\n",
              "       [6.4679271e-01, 3.5320726e-01],\n",
              "       [7.9786986e-01, 2.0213020e-01],\n",
              "       [6.3669848e-01, 3.6330155e-01],\n",
              "       [9.8555541e-01, 1.4444593e-02],\n",
              "       [8.5246336e-01, 1.4753658e-01],\n",
              "       [9.2954654e-01, 7.0453510e-02],\n",
              "       [9.4808656e-01, 5.1913425e-02],\n",
              "       [9.7487938e-01, 2.5120670e-02],\n",
              "       [8.4265441e-01, 1.5734553e-01],\n",
              "       [9.9406624e-01, 5.9337062e-03],\n",
              "       [7.9834706e-01, 2.0165291e-01],\n",
              "       [8.9581263e-01, 1.0418743e-01],\n",
              "       [8.4922433e-01, 1.5077572e-01],\n",
              "       [9.9543923e-01, 4.5607942e-03],\n",
              "       [7.4656498e-01, 2.5343502e-01],\n",
              "       [8.5293984e-01, 1.4706014e-01],\n",
              "       [5.8472008e-01, 4.1527987e-01],\n",
              "       [9.6857685e-01, 3.1423070e-02],\n",
              "       [8.8677764e-01, 1.1322233e-01],\n",
              "       [8.4492594e-01, 1.5507407e-01],\n",
              "       [7.4095821e-01, 2.5904179e-01],\n",
              "       [9.8441702e-01, 1.5583027e-02],\n",
              "       [9.5864099e-01, 4.1359078e-02],\n",
              "       [9.9924588e-01, 7.5410237e-04],\n",
              "       [6.8245465e-01, 3.1754541e-01],\n",
              "       [8.2419360e-01, 1.7580640e-01],\n",
              "       [8.8658273e-01, 1.1341732e-01],\n",
              "       [9.9303824e-01, 6.9617680e-03],\n",
              "       [9.4750011e-01, 5.2499834e-02],\n",
              "       [7.8747314e-01, 2.1252684e-01],\n",
              "       [9.8881769e-01, 1.1182375e-02],\n",
              "       [9.5103478e-01, 4.8965275e-02],\n",
              "       [9.2388707e-01, 7.6112948e-02],\n",
              "       [9.7247869e-01, 2.7521342e-02],\n",
              "       [6.7492145e-01, 3.2507855e-01],\n",
              "       [9.9354470e-01, 6.4553688e-03],\n",
              "       [8.9524943e-01, 1.0475059e-01],\n",
              "       [7.8590369e-01, 2.1409628e-01],\n",
              "       [7.4349481e-01, 2.5650525e-01],\n",
              "       [6.1303055e-01, 3.8696954e-01],\n",
              "       [7.7468640e-01, 2.2531356e-01],\n",
              "       [9.8363024e-01, 1.6369816e-02],\n",
              "       [8.4413111e-01, 1.5586889e-01],\n",
              "       [7.6607454e-01, 2.3392552e-01],\n",
              "       [9.8664272e-01, 1.3357272e-02],\n",
              "       [9.9043697e-01, 9.5629795e-03],\n",
              "       [8.0507654e-01, 1.9492337e-01],\n",
              "       [9.1669190e-01, 8.3308108e-02],\n",
              "       [9.0033638e-01, 9.9663638e-02],\n",
              "       [9.9341029e-01, 6.5896623e-03],\n",
              "       [8.5843533e-01, 1.4156459e-01],\n",
              "       [7.9402137e-01, 2.0597859e-01],\n",
              "       [9.8461747e-01, 1.5382491e-02],\n",
              "       [9.8246783e-01, 1.7532196e-02],\n",
              "       [8.7424654e-01, 1.2575342e-01],\n",
              "       [9.8101151e-01, 1.8988471e-02],\n",
              "       [9.8697853e-01, 1.3021459e-02],\n",
              "       [7.4856985e-01, 2.5143015e-01],\n",
              "       [9.9469709e-01, 5.3029186e-03],\n",
              "       [7.1705043e-01, 2.8294963e-01],\n",
              "       [9.1062319e-01, 8.9376777e-02],\n",
              "       [9.8620540e-01, 1.3794638e-02],\n",
              "       [6.4745307e-01, 3.5254696e-01],\n",
              "       [8.6168402e-01, 1.3831593e-01],\n",
              "       [8.6195242e-01, 1.3804762e-01],\n",
              "       [9.6845812e-01, 3.1541862e-02],\n",
              "       [7.1890295e-01, 2.8109708e-01],\n",
              "       [9.0656674e-01, 9.3433298e-02],\n",
              "       [9.8542434e-01, 1.4575687e-02],\n",
              "       [8.0511558e-01, 1.9488439e-01],\n",
              "       [9.9471092e-01, 5.2890824e-03],\n",
              "       [8.5019481e-01, 1.4980520e-01],\n",
              "       [9.9540788e-01, 4.5920671e-03],\n",
              "       [8.5853988e-01, 1.4146008e-01],\n",
              "       [6.6575086e-01, 3.3424914e-01],\n",
              "       [9.9737310e-01, 2.6269036e-03],\n",
              "       [7.8670824e-01, 2.1329173e-01],\n",
              "       [9.4266593e-01, 5.7334032e-02],\n",
              "       [9.7453487e-01, 2.5465112e-02],\n",
              "       [9.9862719e-01, 1.3728106e-03],\n",
              "       [9.3646282e-01, 6.3537210e-02],\n",
              "       [9.8759705e-01, 1.2402957e-02]], dtype=float32)"
            ]
          },
          "metadata": {},
          "execution_count": 35
        }
      ]
    },
    {
      "cell_type": "code",
      "source": [
        "from tensorflow.keras.models import load_model\n",
        "\n",
        "model.save('model_vgg19.h5')"
      ],
      "metadata": {
        "id": "30x6dnziydvX"
      },
      "execution_count": 36,
      "outputs": []
    },
    {
      "cell_type": "code",
      "source": [
        "from tensorflow.keras.preprocessing import image"
      ],
      "metadata": {
        "id": "A5yQekDzzJac"
      },
      "execution_count": 37,
      "outputs": []
    },
    {
      "cell_type": "code",
      "source": [
        "model = load_model('model_vgg19.h5')"
      ],
      "metadata": {
        "id": "52oe6isT0gpQ"
      },
      "execution_count": 38,
      "outputs": []
    },
    {
      "cell_type": "code",
      "source": [
        "img = image.load_img('Dataset/Test/Parasite/C39P4thinF_original_IMG_20150622_105803_cell_112.png',target_size=(224,224))"
      ],
      "metadata": {
        "id": "XvYAomGg0oDm"
      },
      "execution_count": 41,
      "outputs": []
    },
    {
      "cell_type": "code",
      "source": [
        "x = image.img_to_array(img)\n",
        "x"
      ],
      "metadata": {
        "colab": {
          "base_uri": "https://localhost:8080/"
        },
        "id": "X9Re8PPw0zsS",
        "outputId": "086336aa-7a55-45d5-8fd7-ccfeb5ab047e"
      },
      "execution_count": 42,
      "outputs": [
        {
          "output_type": "execute_result",
          "data": {
            "text/plain": [
              "array([[[0., 0., 0.],\n",
              "        [0., 0., 0.],\n",
              "        [0., 0., 0.],\n",
              "        ...,\n",
              "        [0., 0., 0.],\n",
              "        [0., 0., 0.],\n",
              "        [0., 0., 0.]],\n",
              "\n",
              "       [[0., 0., 0.],\n",
              "        [0., 0., 0.],\n",
              "        [0., 0., 0.],\n",
              "        ...,\n",
              "        [0., 0., 0.],\n",
              "        [0., 0., 0.],\n",
              "        [0., 0., 0.]],\n",
              "\n",
              "       [[0., 0., 0.],\n",
              "        [0., 0., 0.],\n",
              "        [0., 0., 0.],\n",
              "        ...,\n",
              "        [0., 0., 0.],\n",
              "        [0., 0., 0.],\n",
              "        [0., 0., 0.]],\n",
              "\n",
              "       ...,\n",
              "\n",
              "       [[0., 0., 0.],\n",
              "        [0., 0., 0.],\n",
              "        [0., 0., 0.],\n",
              "        ...,\n",
              "        [0., 0., 0.],\n",
              "        [0., 0., 0.],\n",
              "        [0., 0., 0.]],\n",
              "\n",
              "       [[0., 0., 0.],\n",
              "        [0., 0., 0.],\n",
              "        [0., 0., 0.],\n",
              "        ...,\n",
              "        [0., 0., 0.],\n",
              "        [0., 0., 0.],\n",
              "        [0., 0., 0.]],\n",
              "\n",
              "       [[0., 0., 0.],\n",
              "        [0., 0., 0.],\n",
              "        [0., 0., 0.],\n",
              "        ...,\n",
              "        [0., 0., 0.],\n",
              "        [0., 0., 0.],\n",
              "        [0., 0., 0.]]], dtype=float32)"
            ]
          },
          "metadata": {},
          "execution_count": 42
        }
      ]
    },
    {
      "cell_type": "code",
      "source": [
        "x.shape"
      ],
      "metadata": {
        "colab": {
          "base_uri": "https://localhost:8080/"
        },
        "id": "7xi6lk0Q1DYc",
        "outputId": "b1be631a-4f65-4790-a019-4d2f3241cf53"
      },
      "execution_count": 43,
      "outputs": [
        {
          "output_type": "execute_result",
          "data": {
            "text/plain": [
              "(224, 224, 3)"
            ]
          },
          "metadata": {},
          "execution_count": 43
        }
      ]
    },
    {
      "cell_type": "code",
      "source": [
        "x = x/255"
      ],
      "metadata": {
        "id": "KeUQi6Ew1F8b"
      },
      "execution_count": 44,
      "outputs": []
    },
    {
      "cell_type": "code",
      "source": [
        "import numpy as np"
      ],
      "metadata": {
        "id": "gVpjphAm1QFq"
      },
      "execution_count": 46,
      "outputs": []
    },
    {
      "cell_type": "code",
      "source": [
        "x=np.expand_dims(x,axis=0)\n",
        "img_data=preprocess_input(x)\n",
        "img_data.shape"
      ],
      "metadata": {
        "colab": {
          "base_uri": "https://localhost:8080/"
        },
        "id": "0Vx1u26c1SeP",
        "outputId": "0750600e-2802-4eea-ec73-e5030d6f79a5"
      },
      "execution_count": 47,
      "outputs": [
        {
          "output_type": "execute_result",
          "data": {
            "text/plain": [
              "(1, 224, 224, 3)"
            ]
          },
          "metadata": {},
          "execution_count": 47
        }
      ]
    },
    {
      "cell_type": "code",
      "source": [
        "model.predict(img_data)"
      ],
      "metadata": {
        "colab": {
          "base_uri": "https://localhost:8080/"
        },
        "id": "RINpQA9x1Vzy",
        "outputId": "2fe3dc03-855b-413d-aaa4-f4ce5c5347d9"
      },
      "execution_count": 48,
      "outputs": [
        {
          "output_type": "execute_result",
          "data": {
            "text/plain": [
              "array([[0.4090225 , 0.59097743]], dtype=float32)"
            ]
          },
          "metadata": {},
          "execution_count": 48
        }
      ]
    },
    {
      "cell_type": "code",
      "source": [
        "a = np.argmax(model.predict(img_data),axis=1)"
      ],
      "metadata": {
        "id": "HYo8Zp8d1YaL"
      },
      "execution_count": 51,
      "outputs": []
    },
    {
      "cell_type": "code",
      "source": [
        "a"
      ],
      "metadata": {
        "colab": {
          "base_uri": "https://localhost:8080/"
        },
        "id": "I89prYhW1hdq",
        "outputId": "93fb405b-b02c-48fb-8072-d26c93bb1ca0"
      },
      "execution_count": 52,
      "outputs": [
        {
          "output_type": "execute_result",
          "data": {
            "text/plain": [
              "array([1])"
            ]
          },
          "metadata": {},
          "execution_count": 52
        }
      ]
    },
    {
      "cell_type": "code",
      "source": [
        ""
      ],
      "metadata": {
        "id": "OJM6pt4U1o2p"
      },
      "execution_count": null,
      "outputs": []
    }
  ]
}